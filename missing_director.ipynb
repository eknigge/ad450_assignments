import pandas as pd


def main():
    data_filename = 'netflix_titles.csv'
    df = pd.read_csv(data_filename)
    df['director'] = df['director'].fillna('unknown')
    director_dict = df['director'].value_counts().to_dict()

    print(f'Director: Movie Count\n')
    for key in director_dict:
        if director_dict[key] > 10:
            print(f'{key}: {director_dict[key]}')


if __name__ == '__main__':
    main()
